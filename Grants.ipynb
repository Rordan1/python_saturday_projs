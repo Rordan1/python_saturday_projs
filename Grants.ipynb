{
  "nbformat": 4,
  "nbformat_minor": 0,
  "metadata": {
    "colab": {
      "provenance": [],
      "authorship_tag": "ABX9TyOi6+ghVvTaQiH/y/DZJHOp"
    },
    "kernelspec": {
      "name": "python3",
      "display_name": "Python 3"
    },
    "language_info": {
      "name": "python"
    }
  },
  "cells": [
    {
      "cell_type": "markdown",
      "source": [
        "##SEARCHING FOR GRANTS##"
      ],
      "metadata": {
        "id": "B3ctHTUmAtF5"
      }
    },
    {
      "cell_type": "markdown",
      "source": [
        "\n",
        "So I am looking for grants based on the following key words:\n",
        "1. Sexual health \n",
        "2. UTI- urinary tract infection \n",
        "3. Bacterial Vaginosis\n",
        "4. Yeast infection \n",
        "5. Genital infection"
      ],
      "metadata": {
        "id": "wsGgmYsDCCDZ"
      }
    },
    {
      "cell_type": "markdown",
      "source": [
        "\n",
        "### Types of grants\n",
        "\n",
        "Philanthropic Community Foundations: These groups are typically dedicated to investments in bettering their community or furthering a cause in accordance with their own mission.\n",
        "\n",
        "Family Foundations: These are generally family estates in which funds, like above, have been dedicated to vested causes or community interests.\n",
        "\n",
        "**Government**: Local, county, and state grants are often available for targeting certain needs or are for assistance in response to widespread issues (think COVID or disaster relief grants). Other examples are federal or state grants for community development, urban renewal, or other needs.\n",
        "\n",
        "Humanities, Arts, Science, Technology, and other special categories: These grants are for projects and organizations to further investments in arts, culture, education, science, etc. (Example: Nebraska Council for the Arts, National Institute of Health, many others).\n",
        "\n",
        "Business and Corporate: As part of their social responsibility and commitment to the communities that they do business in, many companies offer grant opportunities. Larger corporations may have subsidiary foundations or internal application review panels who will distribute grant funds to nonprofits working in their focus areas. Most corporations will have information about these opportunities on their websites. With larger companies, it is often helpful to contact a local office or branch.\n"
      ],
      "metadata": {
        "id": "oecbEP2wC0vB"
      }
    },
    {
      "cell_type": "code",
      "source": [
        "##google dork\n",
        "\n",
        "site:grants.gov intitle:\"grant\" intext:\"keyword(s)\"\n"
      ],
      "metadata": {
        "id": "gh6hk6ftA0Mh"
      },
      "execution_count": null,
      "outputs": []
    },
    {
      "cell_type": "code",
      "source": [
        "##workaround\n",
        "\n",
        "from googlesearch import search\n",
        "import itertools\n",
        "\n",
        "def search_with_dork(dork):\n",
        "    keywords = [\n",
        "        \"Sexual health\",\n",
        "        \"UTI- urinary tract infection\",\n",
        "        \"Bacterial Vaginosis\",\n",
        "        \"Yeast infection\",\n",
        "        \"Genital infection\"\n",
        "    ]\n",
        "\n",
        "    search_results = []\n",
        "\n",
        "    for keyword in keywords:\n",
        "        query = f'site:{dork} {keyword}'\n",
        "        results = itertools.islice(search(query), 10)  # Limit the results to 10\n",
        "        search_results.extend(results)\n",
        "\n",
        "    return search_results\n",
        "\n",
        "# Example usage\n",
        "result_links = search_with_dork('grants.gov')\n",
        "\n",
        "# Access the search result links\n",
        "for link in result_links:\n",
        "    print(link)\n",
        "\n"
      ],
      "metadata": {
        "colab": {
          "base_uri": "https://localhost:8080/"
        },
        "id": "b6qvXzh5H_Eq",
        "outputId": "91a5f986-560b-433f-99a0-62ab66042600"
      },
      "execution_count": null,
      "outputs": [
        {
          "output_type": "stream",
          "name": "stdout",
          "text": [
            "https://apply07.grants.gov/apply/opportunities/instructions/PKG00249927-instructions.pdf\n",
            "https://apply07.grants.gov/apply/opportunities/instructions/PKG00258253-instructions.pdf\n",
            "https://www.grants.gov/grantsws/rest/opportunity/att/download/292072\n",
            "https://blog.grants.gov/2017/04/28/fundingfriday-grants-supporting-national-sexual-assault-awareness-and-prevention-month/\n",
            "https://www.grants.gov/grantsws/rest/opportunity/att/download/288064\n",
            "https://apply07.grants.gov/apply/opportunities/instructions/PKG00272572-instructions.pdf\n",
            "https://apply07.grants.gov/apply/opportunities/instructions/PKG00262720-instructions.pdf\n",
            "https://apply07.grants.gov/apply/opportunities/instructions/PKG00258252-instructions.pdf\n",
            "https://www.grants.gov/grantsws/rest/opportunity/att/download/322736\n",
            "https://apply07.grants.gov/apply/opportunities/instructions/PKG00258269-instructions.pdf\n"
          ]
        }
      ]
    },
    {
      "cell_type": "code",
      "source": [
        "from googlesearch import search\n",
        "import itertools\n",
        "\n",
        "def search_with_dork(dork):\n",
        "    keywords = [\n",
        "        \"Sexual health\",\n",
        "        \"UTI- urinary tract infection\",\n",
        "        \"Bacterial Vaginosis\",\n",
        "        \"Yeast infection\",\n",
        "        \"Genital infection\"\n",
        "    ]\n",
        "\n",
        "    search_results = []\n",
        "\n",
        "    for keyword in keywords:\n",
        "        query = f'site:{dork} {keyword}'\n",
        "        results = itertools.islice(search(query), 10)  # Limit the results to 10\n",
        "        search_results.extend(results)\n",
        "\n",
        "    return search_results\n",
        "\n",
        "# Example usage\n",
        "result_links2 = search_with_dork('cdc.gov')\n",
        "\n",
        "# Access the search result links\n",
        "for link in result_links:\n",
        "    print(link)"
      ],
      "metadata": {
        "id": "5j2n6-VDKEwg"
      },
      "execution_count": null,
      "outputs": []
    },
    {
      "cell_type": "markdown",
      "source": [
        "\n",
        "\n",
        "\n",
        "*   grants.gov\n",
        "\n",
        "\n",
        "\n",
        "*   nsf.gov (National science foundation)\n",
        "\n",
        "*   cdc.gov\n",
        "*  Grants.NIH.gov\n",
        "\n",
        "\n",
        "\n",
        "*   SBIR.gov\n",
        "*   Turbosbir.com\n",
        "\n",
        "\n",
        "\n",
        "\n",
        "\n",
        "\n"
      ],
      "metadata": {
        "id": "boIvgThhLUtr"
      }
    },
    {
      "cell_type": "code",
      "source": [
        "from googlesearch import search\n",
        "import itertools\n",
        "\n",
        "def search_with_dork(dork, site):\n",
        "    keywords = [\n",
        "        \"Sexual health\",\n",
        "        \"UTI- urinary tract infection\",\n",
        "        \"Bacterial Vaginosis\",\n",
        "        \"Yeast infection\",\n",
        "        \"Genital infection\"\n",
        "    ]\n",
        "\n",
        "    search_results = []\n",
        "\n",
        "    for keyword in keywords:\n",
        "        query = f'site:{site} {keyword}'\n",
        "        results = itertools.islice(search(query), 25)  # Limit the results\n",
        "        search_results.extend(results)\n",
        "\n",
        "    return search_results\n",
        "\n",
        "# Ask for the site from which to pull links\n",
        "site = input(\"Enter the site (e.g., grants.gov): \")\n",
        "\n",
        "# Call the search_with_dork function with the provided site\n",
        "result_links = search_with_dork('grants.gov', site)\n",
        "\n",
        "# Access the search result links\n",
        "for link in result_links:\n",
        "    print(link)"
      ],
      "metadata": {
        "colab": {
          "base_uri": "https://localhost:8080/"
        },
        "id": "l5wmrg4FPBuX",
        "outputId": "8a3c5237-198b-4af5-8a09-e4158c8774f3"
      },
      "execution_count": 13,
      "outputs": [
        {
          "output_type": "stream",
          "name": "stdout",
          "text": [
            "Enter the site (e.g., grants.gov): cdc.gov\n",
            "https://www.cdc.gov/sexualhealth/Default.html\n",
            "https://www.cdc.gov/nchhstp/sexual-health-topics.htm\n",
            "https://www.cdc.gov/std/default.htm\n",
            "https://www.cdc.gov/healthyyouth/whatworks/what-works-sexual-health-services.htm\n",
            "https://www.cdc.gov/healthyyouth/whatworks/what-works-sexual-health-education.htm\n",
            "https://www.cdc.gov/std/treatment/sexualhistory.pdf\n",
            "https://www.cdc.gov/healthyyouth/sexualbehaviors/index.htm\n",
            "https://www.cdc.gov/sexualhealth/publications.html\n",
            "https://www.cdc.gov/cancer/survivors/healthy-living-guides/sexual-health/common-problems.htm\n",
            "https://www.cdc.gov/hiv/clinicians/screening/sexual-health.html\n",
            "https://www.cdc.gov/antibiotic-use/uti.html\n",
            "https://www.cdc.gov/hai/ca_uti/uti.html\n",
            "https://www.cdc.gov/infectioncontrol/guidelines/cauti/index.html\n",
            "https://www.cdc.gov/hai/ca_uti/cauti_faqs.html\n",
            "https://www.cdc.gov/hai/prevent/tap.html\n",
            "https://www.cdc.gov/nhsn/pdfs/pscmanual/7psccauticurrent.pdf\n",
            "https://www.cdc.gov/nhsn/ltc/uti/index.html\n",
            "https://www.cdc.gov/nhsn/pdfs/training/2021/uti-508.pdf\n",
            "https://www.cdc.gov/hai/pdfs/uti/ca-uti_tagged.pdf\n",
            "https://www.cdc.gov/nhsn/faqs/faq-uti.html\n",
            "https://www.cdc.gov/std/bv/stdfact-bacterial-vaginosis.htm\n",
            "https://www.cdc.gov/std/bv/default.htm\n",
            "https://www.cdc.gov/std/treatment-guidelines/bv.htm\n",
            "https://www.cdc.gov/std/bv/stats.htm\n",
            "https://www.cdc.gov/std/bv/the-facts/bacvaginosis_bro_508.pdf\n",
            "https://www.cdc.gov/std/bv/treatment.htm\n",
            "https://www.cdc.gov/std/bv/facts-brochures.htm\n",
            "https://www.cdc.gov/TemplatePackage/contrib/widgets/tp-syndication/index.html?chost=cidclinic.com&cpath=/bacterial-vaginosis/&csearch=&chash=&ctitle=Bacterial%20Vaginosis%20-%20CID%20Clinic&wn=syndicationIframe&wf=/TemplatePackage/contrib/widgets/tp-syndication/&wid=syndicationIframe1&mMode=widget&mPage=&mChannel=&class=rid_ec9fb40c_124250&iframeembedsrc=//tools.cdc.gov/TemplatePackage/contrib/widgets/tp-widget-external-loader.js&apiembedsrc=//tools.cdc.gov/api/embed/html/js/embed-2.0.3.js&iframe=true&nw=true&ns=Bacterial%20Vaginosis&of=XHTML&oe=UTF-8&cssclasses=syndicate&stripstyles=true&stripcomments=true&stripimages=false&stripanchors=false&stripscripts=true&mediaid=124250&mediatype=HTML&apiroot=//tools.cdc.gov/api\n",
            "https://www.cdc.gov/stiapp/bacterial-vaginosis.html\n",
            "https://stacks.cdc.gov/view/cdc/32737/cdc_32737_DS1.pdf?\n",
            "https://www.cdc.gov/fungal/diseases/candidiasis/genital/index.html\n",
            "https://www.cdc.gov/fungal/diseases/candidiasis/index.html\n",
            "https://www.cdc.gov/fungal/diseases/candidiasis/invasive/index.html\n",
            "https://www.cdc.gov/fungal/diseases/candidiasis/thrush/index.html\n",
            "https://www.cdc.gov/fungal/diseases/candidiasis/invasive/treatment.html\n",
            "https://www.cdc.gov/std/treatment-guidelines/candidiasis.htm\n",
            "https://www.cdc.gov/fungal/diseases/candidiasis/invasive/symptoms.html\n",
            "https://www.cdc.gov/fungal/candida-auris/candida-auris-qanda.html\n",
            "https://www.cdc.gov/fungal/infections/index.html\n",
            "https://www.cdc.gov/fungal/diseases/candidiasis/invasive/definition.html\n",
            "https://www.cdc.gov/fungal/diseases/candidiasis/genital/index.html\n",
            "https://www.cdc.gov/std/hpv/stdfact-hpv.htm\n",
            "https://www.cdc.gov/std/treatment-guidelines/vaginal-discharge.htm\n",
            "https://www.cdc.gov/std/treatment-guidelines/candidiasis.htm\n",
            "https://www.cdc.gov/std/herpes/stdfact-herpes.htm\n",
            "https://www.cdc.gov/std/bv/stdfact-bacterial-vaginosis.htm\n",
            "https://www.cdc.gov/std/trichomonas/stdfact-trichomoniasis.htm\n",
            "https://www.cdc.gov/std/herpes/stdfact-herpes-detailed.htm\n",
            "https://www.cdc.gov/std/default.htm\n",
            "https://www.cdc.gov/std/herpes/default.htm\n"
          ]
        }
      ]
    },
    {
      "cell_type": "code",
      "source": [
        "import itertools\n",
        "import requests\n",
        "\n",
        "def search_with_dork(dork, site):\n",
        "    query = f'site:{site} {dork}'\n",
        "    search_url = f'https://www.google.com/search?q={query}&num=10'\n",
        "\n",
        "    response = requests.get(search_url)\n",
        "    response.raise_for_status()\n",
        "\n",
        "    search_results = response.text\n",
        "    return search_results\n",
        "\n",
        "# Define the sites and dorks to search for\n",
        "sites = ['grants.gov', 'nsf.gov', 'cdc.gov', 'grants.nih.gov', 'sbir.gov', 'turbosbir.com']\n",
        "dorks = ['Sexual health', 'UTI-urinary tract infection', 'Bacterial Vaginosis', 'Yeast infection', 'Genital infection']\n",
        "\n",
        "# Perform the search for each combination of dork and site\n",
        "for dork, site in itertools.product(dorks, sites):\n",
        "    search_results = search_with_dork(dork, site)\n",
        "    # Process the search results as needed\n",
        "    print(f'Search results for {dork} on {site}:')\n",
        "    print(search_results)\n",
        "    print('-' * 50)\n"
      ],
      "metadata": {
        "id": "48QPLmaON6SD"
      },
      "execution_count": null,
      "outputs": []
    }
  ]
}