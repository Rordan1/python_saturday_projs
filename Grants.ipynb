{
  "nbformat": 4,
  "nbformat_minor": 0,
  "metadata": {
    "colab": {
      "provenance": [],
      "authorship_tag": "ABX9TyOL6+8SUGtFn5AkFJzVQW6d",
      "include_colab_link": true
    },
    "kernelspec": {
      "name": "python3",
      "display_name": "Python 3"
    },
    "language_info": {
      "name": "python"
    }
  },
  "cells": [
    {
      "cell_type": "markdown",
      "metadata": {
        "id": "view-in-github",
        "colab_type": "text"
      },
      "source": [
        "<a href=\"https://colab.research.google.com/github/Rordan1/python_saturday_projs/blob/main/Grants.ipynb\" target=\"_parent\"><img src=\"https://colab.research.google.com/assets/colab-badge.svg\" alt=\"Open In Colab\"/></a>"
      ]
    },
    {
      "cell_type": "markdown",
      "source": [
        "##SEARCHING FOR GRANTS"
      ],
      "metadata": {
        "id": "B3ctHTUmAtF5"
      }
    },
    {
      "cell_type": "markdown",
      "source": [
        "\n",
        "So I am looking for grants based on the following key words:\n",
        "1. Sexual health \n",
        "2. UTI- urinary tract infection \n",
        "3. Bacterial Vaginosis\n",
        "4. Yeast infection \n",
        "5. Genital infection"
      ],
      "metadata": {
        "id": "wsGgmYsDCCDZ"
      }
    },
    {
      "cell_type": "markdown",
      "source": [
        "\n",
        "### Types of grants\n",
        "\n",
        "Philanthropic Community Foundations: These groups are typically dedicated to investments in bettering their community or furthering a cause in accordance with their own mission.\n",
        "\n",
        "Family Foundations: These are generally family estates in which funds, like above, have been dedicated to vested causes or community interests.\n",
        "\n",
        "**Government**: Local, county, and state grants are often available for targeting certain needs or are for assistance in response to widespread issues (think COVID or disaster relief grants). Other examples are federal or state grants for community development, urban renewal, or other needs.\n",
        "\n",
        "Humanities, Arts, Science, Technology, and other special categories: These grants are for projects and organizations to further investments in arts, culture, education, science, etc. (Example: Nebraska Council for the Arts, National Institute of Health, many others).\n",
        "\n",
        "Business and Corporate: As part of their social responsibility and commitment to the communities that they do business in, many companies offer grant opportunities. Larger corporations may have subsidiary foundations or internal application review panels who will distribute grant funds to nonprofits working in their focus areas. Most corporations will have information about these opportunities on their websites. With larger companies, it is often helpful to contact a local office or branch.\n"
      ],
      "metadata": {
        "id": "oecbEP2wC0vB"
      }
    },
    {
      "cell_type": "code",
      "source": [
        "##google dork\n",
        "\n",
        "site:grants.gov intitle:\"grant\" intext:\"keyword(s)\"\n"
      ],
      "metadata": {
        "id": "gh6hk6ftA0Mh"
      },
      "execution_count": null,
      "outputs": []
    },
    {
      "cell_type": "code",
      "source": [
        "##workaround\n",
        "\n",
        "from googlesearch import search\n",
        "import itertools\n",
        "\n",
        "def search_with_dork(dork):\n",
        "    keywords = [\n",
        "        \"Sexual health\",\n",
        "        \"UTI- urinary tract infection\",\n",
        "        \"Bacterial Vaginosis\",\n",
        "        \"Yeast infection\",\n",
        "        \"Genital infection\"\n",
        "    ]\n",
        "\n",
        "    search_results = []\n",
        "\n",
        "    for keyword in keywords:\n",
        "        query = f'site:{dork} {keyword}'\n",
        "        results = itertools.islice(search(query), 10)  # Limit the results to 10\n",
        "        search_results.extend(results)\n",
        "\n",
        "    return search_results\n",
        "\n",
        "# Example usage\n",
        "result_links = search_with_dork('grants.gov')\n",
        "\n",
        "# Access the search result links\n",
        "for link in result_links:\n",
        "    print(link)\n",
        "\n"
      ],
      "metadata": {
        "colab": {
          "base_uri": "https://localhost:8080/"
        },
        "id": "b6qvXzh5H_Eq",
        "outputId": "91a5f986-560b-433f-99a0-62ab66042600"
      },
      "execution_count": null,
      "outputs": [
        {
          "output_type": "stream",
          "name": "stdout",
          "text": [
            "https://apply07.grants.gov/apply/opportunities/instructions/PKG00249927-instructions.pdf\n",
            "https://apply07.grants.gov/apply/opportunities/instructions/PKG00258253-instructions.pdf\n",
            "https://www.grants.gov/grantsws/rest/opportunity/att/download/292072\n",
            "https://blog.grants.gov/2017/04/28/fundingfriday-grants-supporting-national-sexual-assault-awareness-and-prevention-month/\n",
            "https://www.grants.gov/grantsws/rest/opportunity/att/download/288064\n",
            "https://apply07.grants.gov/apply/opportunities/instructions/PKG00272572-instructions.pdf\n",
            "https://apply07.grants.gov/apply/opportunities/instructions/PKG00262720-instructions.pdf\n",
            "https://apply07.grants.gov/apply/opportunities/instructions/PKG00258252-instructions.pdf\n",
            "https://www.grants.gov/grantsws/rest/opportunity/att/download/322736\n",
            "https://apply07.grants.gov/apply/opportunities/instructions/PKG00258269-instructions.pdf\n"
          ]
        }
      ]
    },
    {
      "cell_type": "markdown",
      "source": [
        "\n",
        "\n",
        "\n",
        "*   grants.gov\n",
        "\n",
        "\n",
        "\n",
        "*   nsf.gov (National science foundation)\n",
        "\n",
        "*   cdc.gov\n",
        "*  Grants.NIH.gov\n",
        "\n",
        "\n",
        "\n",
        "*   SBIR.gov\n",
        "*   Turbosbir.com\n",
        "\n",
        "\n",
        "\n",
        "\n",
        "\n",
        "\n"
      ],
      "metadata": {
        "id": "boIvgThhLUtr"
      }
    },
    {
      "cell_type": "code",
      "source": [
        "from googlesearch import search\n",
        "import itertools\n",
        "\n",
        "def search_with_dork(dork, site):\n",
        "    keywords = [\n",
        "        \"Sexual health\",\n",
        "        \"UTI- urinary tract infection\",\n",
        "        \"Bacterial Vaginosis\",\n",
        "        \"Yeast infection\",\n",
        "        \"Genital infection\"\n",
        "        \"Metagenomic\"\n",
        "        \"next-generation sequencing\"\n",
        "\n",
        "    ]\n",
        "\n",
        "    search_results = []\n",
        "\n",
        "    for keyword in itertools.chain([dork], keywords):\n",
        "        query = f'site:{site} {keyword}'\n",
        "        results = itertools.islice(search(query), 10)\n",
        "        search_results.extend(results)\n",
        "\n",
        "    return search_results\n",
        "\n",
        "# Ask for the site from which to pull links\n",
        "site = input(\"Enter the site (e.g., grants.gov): \")\n",
        "\n",
        "# Call the search_with_dork function with the provided site and dynamic dork\n",
        "result_links = search_with_dork(site, site)\n",
        "\n",
        "# Access the search result links\n",
        "for link in result_links:\n",
        "    print(link)\n"
      ],
      "metadata": {
        "colab": {
          "base_uri": "https://localhost:8080/"
        },
        "id": "TmZG2ToEVIoX",
        "outputId": "3fcc3c92-714c-4ba2-c399-560f4ee19b3b"
      },
      "execution_count": 30,
      "outputs": [
        {
          "output_type": "stream",
          "name": "stdout",
          "text": [
            "Enter the site (e.g., grants.gov): sbir.gov\n",
            "https://www.sbir.gov/\n",
            "https://www.sbir.gov/about\n",
            "https://www.sbir.gov/faqs/eligibility-requirements\n",
            "https://beta.www.sbir.gov/\n",
            "https://www.sbir.gov/funding\n",
            "https://www.sbir.gov/sbirsearch/topic/current\n",
            "https://www.sbir.gov/applicants\n",
            "https://www.sbir.gov/resources\n",
            "https://www.sbir.gov/sbirsearch/award/all\n",
            "https://www.sbir.gov/solicitations\n",
            "https://www.sbir.gov/node/305752\n",
            "https://www.sbir.gov/node/1045367\n",
            "https://www.sbir.gov/node/1682901\n",
            "https://www.sbir.gov/node/361267\n",
            "https://www.sbir.gov/node/1332095\n",
            "https://www.sbir.gov/sbirsearch/detail/1564659\n",
            "https://www.sbir.gov/node/1966179\n",
            "https://www.sbir.gov/sbirsearch/detail/400642\n",
            "https://www.sbir.gov/sbirsearch/detail/1045227\n",
            "https://www.sbir.gov/sbirsearch/detail/1248887\n",
            "https://www.sbir.gov/content/treatment-andor-prevention-urinary-tract-infections-0\n",
            "https://www.sbir.gov/sbirsearch/detail/399822\n",
            "https://www.sbir.gov/content/rapid-point-care-test-detect-bacteriuria-and-confirm-urinary-tract-infection\n",
            "https://www.sbir.gov/sbirsearch/detail/122683\n",
            "https://www.sbir.gov/sbirsearch/detail/1029457\n",
            "https://www.sbir.gov/node/10305\n",
            "https://www.sbir.gov/node/1325069\n",
            "https://www.sbir.gov/node/1322757\n",
            "https://www.sbir.gov/node/283332\n",
            "https://www.sbir.gov/sbirsearch/detail/131347\n",
            "https://www.sbir.gov/node/378550\n",
            "https://www.sbir.gov/content/dna-probes-diagnosis-bacterial-vaginosis-0\n",
            "https://www.sbir.gov/sbirsearch/detail/1070751\n",
            "https://www.sbir.gov/sbirsearch/detail/185967\n",
            "https://www.sbir.gov/node/1029243\n",
            "https://www.sbir.gov/node/291717\n",
            "https://www.sbir.gov/node/1911053\n",
            "https://www.sbir.gov/sbc/osel-inc-0\n",
            "https://www.sbir.gov/sbc/ibbex-inc\n",
            "https://www.sbir.gov/node/2072013\n",
            "https://www.sbir.gov/content/simple-and-inexpensive-diagnostic-tools-yeast-infections-0\n",
            "https://www.sbir.gov/sbirsearch/detail/1680147\n",
            "https://www.sbir.gov/sbirsearch/detail/2057\n",
            "https://www.sbir.gov/node/252172\n",
            "https://www.sbir.gov/sbirsearch/detail/1911873\n",
            "https://www.sbir.gov/node/303618\n",
            "https://www.sbir.gov/node/3121\n",
            "https://www.sbir.gov/sbirsearch/detail/1199059\n",
            "https://www.sbir.gov/sbirsearch/detail/357516\n",
            "https://www.sbir.gov/node/879625\n",
            "https://www.sbir.gov/api/solicitations.xml?rows=100\n",
            "https://www.sbir.gov/node/1166371\n"
          ]
        }
      ]
    },
    {
      "cell_type": "code",
      "source": [
        " ##add under keyword and above return\n",
        " #can filter output better\n",
        " \n",
        " \n",
        "  for link in results:\n",
        "            if \"<>\" in link.lower():\n",
        "                search_results.append(link)"
      ],
      "metadata": {
        "id": "jAN2cJw6XVdt"
      },
      "execution_count": null,
      "outputs": []
    }
  ]
}