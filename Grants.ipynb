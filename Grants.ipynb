{
  "nbformat": 4,
  "nbformat_minor": 0,
  "metadata": {
    "colab": {
      "provenance": [],
      "authorship_tag": "ABX9TyO6eNLGSgrqAxa0UfaQZ2uW",
      "include_colab_link": true
    },
    "kernelspec": {
      "name": "python3",
      "display_name": "Python 3"
    },
    "language_info": {
      "name": "python"
    }
  },
  "cells": [
    {
      "cell_type": "markdown",
      "metadata": {
        "id": "view-in-github",
        "colab_type": "text"
      },
      "source": [
        "<a href=\"https://colab.research.google.com/github/Rordan1/python_saturday_projs/blob/main/Grants.ipynb\" target=\"_parent\"><img src=\"https://colab.research.google.com/assets/colab-badge.svg\" alt=\"Open In Colab\"/></a>"
      ]
    },
    {
      "cell_type": "markdown",
      "source": [
        "##SEARCHING FOR GRANTS##"
      ],
      "metadata": {
        "id": "B3ctHTUmAtF5"
      }
    },
    {
      "cell_type": "markdown",
      "source": [
        "\n",
        "So I am looking for grants based on the following key words:\n",
        "1. Sexual health \n",
        "2. UTI- urinary tract infection \n",
        "3. Bacterial Vaginosis\n",
        "4. Yeast infection \n",
        "5. Genital infection"
      ],
      "metadata": {
        "id": "wsGgmYsDCCDZ"
      }
    },
    {
      "cell_type": "markdown",
      "source": [
        "\n",
        "### Types of grants\n",
        "\n",
        "Philanthropic Community Foundations: These groups are typically dedicated to investments in bettering their community or furthering a cause in accordance with their own mission.\n",
        "\n",
        "Family Foundations: These are generally family estates in which funds, like above, have been dedicated to vested causes or community interests.\n",
        "\n",
        "**Government**: Local, county, and state grants are often available for targeting certain needs or are for assistance in response to widespread issues (think COVID or disaster relief grants). Other examples are federal or state grants for community development, urban renewal, or other needs.\n",
        "\n",
        "Humanities, Arts, Science, Technology, and other special categories: These grants are for projects and organizations to further investments in arts, culture, education, science, etc. (Example: Nebraska Council for the Arts, National Institute of Health, many others).\n",
        "\n",
        "Business and Corporate: As part of their social responsibility and commitment to the communities that they do business in, many companies offer grant opportunities. Larger corporations may have subsidiary foundations or internal application review panels who will distribute grant funds to nonprofits working in their focus areas. Most corporations will have information about these opportunities on their websites. With larger companies, it is often helpful to contact a local office or branch.\n"
      ],
      "metadata": {
        "id": "oecbEP2wC0vB"
      }
    },
    {
      "cell_type": "code",
      "source": [
        "##google dork\n",
        "\n",
        "site:grants.gov intitle:\"grant\" intext:\"keyword(s)\"\n"
      ],
      "metadata": {
        "id": "gh6hk6ftA0Mh"
      },
      "execution_count": null,
      "outputs": []
    },
    {
      "cell_type": "code",
      "source": [
        "##chatGPT template\n",
        "\n",
        "from googlesearch import search\n",
        "\n",
        "def search_with_dork(dork):\n",
        "    keyword = input(\"Enter the keyword: \")\n",
        "    query = f'site:{dork} {keyword}'\n",
        "    search_results = search(query, num_results=10)\n",
        "\n",
        "    # Save the keywords to a list\n",
        "    keywords = []\n",
        "    for result in search_results:\n",
        "        keywords.append(keyword)\n",
        "\n",
        "    return keywords\n",
        "\n",
        "# Example usage\n",
        "result_keywords = search_with_dork('grants.gov')\n",
        "\n",
        "# Access the saved keywords\n",
        "for keyword in result_keywords:\n",
        "    print(keyword)\n"
      ],
      "metadata": {
        "id": "B3Zyus2vFoHs",
        "colab": {
          "base_uri": "https://localhost:8080/",
          "height": 392
        },
        "outputId": "a82548d7-9205-4a2a-d953-b7e4ad90505d"
      },
      "execution_count": 1,
      "outputs": [
        {
          "name": "stdout",
          "output_type": "stream",
          "text": [
            "Enter the keyword: Sexual health\n"
          ]
        },
        {
          "output_type": "error",
          "ename": "TypeError",
          "evalue": "ignored",
          "traceback": [
            "\u001b[0;31m---------------------------------------------------------------------------\u001b[0m",
            "\u001b[0;31mTypeError\u001b[0m                                 Traceback (most recent call last)",
            "\u001b[0;32m<ipython-input-1-404ca1e40b32>\u001b[0m in \u001b[0;36m<cell line: 18>\u001b[0;34m()\u001b[0m\n\u001b[1;32m     16\u001b[0m \u001b[0;34m\u001b[0m\u001b[0m\n\u001b[1;32m     17\u001b[0m \u001b[0;31m# Example usage\u001b[0m\u001b[0;34m\u001b[0m\u001b[0;34m\u001b[0m\u001b[0m\n\u001b[0;32m---> 18\u001b[0;31m \u001b[0mresult_keywords\u001b[0m \u001b[0;34m=\u001b[0m \u001b[0msearch_with_dork\u001b[0m\u001b[0;34m(\u001b[0m\u001b[0;34m'grants.gov'\u001b[0m\u001b[0;34m)\u001b[0m\u001b[0;34m\u001b[0m\u001b[0;34m\u001b[0m\u001b[0m\n\u001b[0m\u001b[1;32m     19\u001b[0m \u001b[0;34m\u001b[0m\u001b[0m\n\u001b[1;32m     20\u001b[0m \u001b[0;31m# Access the saved keywords\u001b[0m\u001b[0;34m\u001b[0m\u001b[0;34m\u001b[0m\u001b[0m\n",
            "\u001b[0;32m<ipython-input-1-404ca1e40b32>\u001b[0m in \u001b[0;36msearch_with_dork\u001b[0;34m(dork)\u001b[0m\n\u001b[1;32m      6\u001b[0m     \u001b[0mkeyword\u001b[0m \u001b[0;34m=\u001b[0m \u001b[0minput\u001b[0m\u001b[0;34m(\u001b[0m\u001b[0;34m\"Enter the keyword: \"\u001b[0m\u001b[0;34m)\u001b[0m\u001b[0;34m\u001b[0m\u001b[0;34m\u001b[0m\u001b[0m\n\u001b[1;32m      7\u001b[0m     \u001b[0mquery\u001b[0m \u001b[0;34m=\u001b[0m \u001b[0;34mf'site:{dork} {keyword}'\u001b[0m\u001b[0;34m\u001b[0m\u001b[0;34m\u001b[0m\u001b[0m\n\u001b[0;32m----> 8\u001b[0;31m     \u001b[0msearch_results\u001b[0m \u001b[0;34m=\u001b[0m \u001b[0msearch\u001b[0m\u001b[0;34m(\u001b[0m\u001b[0mquery\u001b[0m\u001b[0;34m,\u001b[0m \u001b[0mnum_results\u001b[0m\u001b[0;34m=\u001b[0m\u001b[0;36m10\u001b[0m\u001b[0;34m)\u001b[0m\u001b[0;34m\u001b[0m\u001b[0;34m\u001b[0m\u001b[0m\n\u001b[0m\u001b[1;32m      9\u001b[0m \u001b[0;34m\u001b[0m\u001b[0m\n\u001b[1;32m     10\u001b[0m     \u001b[0;31m# Save the keywords to a list\u001b[0m\u001b[0;34m\u001b[0m\u001b[0;34m\u001b[0m\u001b[0m\n",
            "\u001b[0;31mTypeError\u001b[0m: search() got an unexpected keyword argument 'num_results'"
          ]
        }
      ]
    },
    {
      "cell_type": "code",
      "source": [],
      "metadata": {
        "id": "h0MvOsLXF93z"
      },
      "execution_count": null,
      "outputs": []
    }
  ]
}