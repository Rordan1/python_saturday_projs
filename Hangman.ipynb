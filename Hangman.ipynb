{
  "nbformat": 4,
  "nbformat_minor": 0,
  "metadata": {
    "colab": {
      "provenance": [],
      "authorship_tag": "ABX9TyPVEVbn0PNHkdMDvWuOYdSb",
      "include_colab_link": true
    },
    "kernelspec": {
      "name": "python3",
      "display_name": "Python 3"
    },
    "language_info": {
      "name": "python"
    }
  },
  "cells": [
    {
      "cell_type": "markdown",
      "metadata": {
        "id": "view-in-github",
        "colab_type": "text"
      },
      "source": [
        "<a href=\"https://colab.research.google.com/github/Rordan1/python_saturday_projs/blob/main/Hangman.ipynb\" target=\"_parent\"><img src=\"https://colab.research.google.com/assets/colab-badge.svg\" alt=\"Open In Colab\"/></a>"
      ]
    },
    {
      "cell_type": "markdown",
      "source": [
        "## Try to guess the correct word without running out of guesses."
      ],
      "metadata": {
        "id": "bLU8lMLmMoVP"
      }
    },
    {
      "cell_type": "code",
      "source": [
        "import random\n",
        "\n",
        "print(\"intro\")\n",
        "\n",
        "word_bank = ['cyber', 'security', 'engineer', 'analyst', 'malware', 'trojan']"
      ],
      "metadata": {
        "colab": {
          "base_uri": "https://localhost:8080/"
        },
        "id": "pi1ZskCJLKO2",
        "outputId": "f1f15a4a-ee8a-44b2-bdd1-509f3a7e8f7d"
      },
      "execution_count": 3,
      "outputs": [
        {
          "output_type": "stream",
          "name": "stdout",
          "text": [
            "intro\n"
          ]
        }
      ]
    },
    {
      "cell_type": "code",
      "source": [
        "secret_word = random.choice(word_bank)\n",
        "\n",
        "print(secret_word)"
      ],
      "metadata": {
        "id": "rRy3XaZILOdo",
        "colab": {
          "base_uri": "https://localhost:8080/"
        },
        "outputId": "e404f392-2caa-4889-a094-d8b3b8f9f5d3"
      },
      "execution_count": 7,
      "outputs": [
        {
          "output_type": "stream",
          "name": "stdout",
          "text": [
            "cyber\n"
          ]
        }
      ]
    }
  ]
}