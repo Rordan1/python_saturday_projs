{
  "nbformat": 4,
  "nbformat_minor": 0,
  "metadata": {
    "colab": {
      "provenance": [],
      "authorship_tag": "ABX9TyOS/RSQdFlLN1twTW7vghYO",
      "include_colab_link": true
    },
    "kernelspec": {
      "name": "python3",
      "display_name": "Python 3"
    },
    "language_info": {
      "name": "python"
    }
  },
  "cells": [
    {
      "cell_type": "markdown",
      "metadata": {
        "id": "view-in-github",
        "colab_type": "text"
      },
      "source": [
        "<a href=\"https://colab.research.google.com/github/Rordan1/python_saturday_projs/blob/main/Hangman.ipynb\" target=\"_parent\"><img src=\"https://colab.research.google.com/assets/colab-badge.svg\" alt=\"Open In Colab\"/></a>"
      ]
    },
    {
      "cell_type": "markdown",
      "source": [
        "## Try to guess the correct word without running out of guesses."
      ],
      "metadata": {
        "id": "bLU8lMLmMoVP"
      }
    },
    {
      "cell_type": "code",
      "source": [
        "import random\n",
        "\n",
        "print(\"intro\")\n",
        "\n",
        "# word_bank = ['cyber', 'security', 'engineer', 'analyst', 'malware', 'trojan']"
      ],
      "metadata": {
        "colab": {
          "base_uri": "https://localhost:8080/"
        },
        "id": "pi1ZskCJLKO2",
        "outputId": "3809bda7-3409-497c-be9d-c9087357b157"
      },
      "execution_count": 1,
      "outputs": [
        {
          "output_type": "stream",
          "name": "stdout",
          "text": [
            "intro\n"
          ]
        }
      ]
    },
    {
      "cell_type": "code",
      "source": [
        "secret_word = random.selection(word_bank)"
      ],
      "metadata": {
        "id": "rRy3XaZILOdo"
      },
      "execution_count": null,
      "outputs": []
    },
    {
      "cell_type": "code",
      "execution_count": null,
      "metadata": {
        "id": "ej93k0QeMwwh"
      },
      "outputs": [],
      "source": [
        "###Hangman\n",
        "##Try to guess the correct word without running out of guesses.\n",
        "\n"
      ]
    }
  ]
}