{
  "nbformat": 4,
  "nbformat_minor": 0,
  "metadata": {
    "colab": {
      "provenance": [],
      "authorship_tag": "ABX9TyPf3cD+SYhui3mDKu6tRZgb",
      "include_colab_link": true
    },
    "kernelspec": {
      "name": "python3",
      "display_name": "Python 3"
    },
    "language_info": {
      "name": "python"
    }
  },
  "cells": [
    {
      "cell_type": "markdown",
      "metadata": {
        "id": "view-in-github",
        "colab_type": "text"
      },
      "source": [
        "<a href=\"https://colab.research.google.com/github/Rordan1/python_saturday_projs/blob/main/Weight_lifting_log.ipynb\" target=\"_parent\"><img src=\"https://colab.research.google.com/assets/colab-badge.svg\" alt=\"Open In Colab\"/></a>"
      ]
    },
    {
      "cell_type": "markdown",
      "source": [
        "\n",
        "\n",
        "* Enter in values from lifts\n",
        "* Ask user for input\n",
        "* Return correct input \n",
        "\n",
        "\n",
        "\n",
        "\n",
        "\n",
        "\n"
      ],
      "metadata": {
        "id": "dE5Q2IW-iahq"
      }
    },
    {
      "cell_type": "markdown",
      "source": [
        "# Amount of weight + number of reps"
      ],
      "metadata": {
        "id": "FEOTCN21iZki"
      }
    },
    {
      "cell_type": "code",
      "source": [
        "shoulder_press = {\n",
        "    'set1': ['45', '8'],\n",
        "    'set2': ['45', '8'],\n",
        "    'set3': ['60', '8'],\n",
        "    'set4': ['60', '8'],\n",
        "    }\n",
        "\n",
        "sp_reps = shoulder_press['set1']\n",
        "print(sp_reps)"
      ],
      "metadata": {
        "colab": {
          "base_uri": "https://localhost:8080/"
        },
        "outputId": "46836984-1bdd-4558-a089-7d2a28fe9044",
        "id": "7xJIWHAvsPtR"
      },
      "execution_count": null,
      "outputs": [
        {
          "output_type": "stream",
          "name": "stdout",
          "text": [
            "['45', '8']\n"
          ]
        }
      ]
    },
    {
      "cell_type": "code",
      "source": [
        "for set_number in shoulder_press.keys():\n",
        "    print(set_number.title())"
      ],
      "metadata": {
        "colab": {
          "base_uri": "https://localhost:8080/"
        },
        "id": "VzvbnwN3y7oq",
        "outputId": "e328a5cc-609a-4425-d88a-30fd1d68c19d"
      },
      "execution_count": null,
      "outputs": [
        {
          "output_type": "stream",
          "name": "stdout",
          "text": [
            "Set1\n",
            "Set2\n",
            "Set3\n",
            "Set4\n"
          ]
        }
      ]
    },
    {
      "cell_type": "code",
      "source": [
        "pull_ups = {\n",
        "    'set1': ['10'],\n",
        "    'set2': ['10'],\n",
        "    'set3': ['8'],\n",
        "    }\n",
        "\n",
        "pu_reps = pull_ups['set2']\n",
        "print(pu_reps)"
      ],
      "metadata": {
        "colab": {
          "base_uri": "https://localhost:8080/"
        },
        "id": "njRrXRqupJF3",
        "outputId": "3b584b0d-722f-433c-f475-7f6184c00296"
      },
      "execution_count": null,
      "outputs": [
        {
          "output_type": "stream",
          "name": "stdout",
          "text": [
            "['10']\n"
          ]
        }
      ]
    },
    {
      "cell_type": "code",
      "source": [
        "chest_machine = {\n",
        "    'set1': ['140', '8'],\n",
        "    'set2': ['200', '4'],\n",
        "    'set3': ['200', '4'],\n",
        "    }\n",
        "\n",
        "cm_reps = chest_machine['set3']\n",
        "print(cm_reps)"
      ],
      "metadata": {
        "colab": {
          "base_uri": "https://localhost:8080/"
        },
        "id": "vFYdpCLdpx5o",
        "outputId": "198dd59b-981e-49ec-ac3d-7a8abb656a5e"
      },
      "execution_count": null,
      "outputs": [
        {
          "output_type": "stream",
          "name": "stdout",
          "text": [
            "['200', '4']\n"
          ]
        }
      ]
    }
  ]
}